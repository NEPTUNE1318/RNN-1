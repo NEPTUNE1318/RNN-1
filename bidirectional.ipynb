{
 "cells": [
  {
   "cell_type": "code",
   "execution_count": 3,
   "metadata": {},
   "outputs": [],
   "source": [
    "import numpy as np\n",
    "from tensorflow.keras.preprocessing import sequence\n",
    "from keras.models import Sequential\n",
    "from keras.layers import Dense, Dropout, Embedding, LSTM, Bidirectional\n",
    "from keras.optimizers import Adam\n",
    "from keras.datasets import imdb"
   ]
  },
  {
   "cell_type": "code",
   "execution_count": 4,
   "metadata": {},
   "outputs": [
    {
     "name": "stdout",
     "output_type": "stream",
     "text": [
      "Epoch 1/4\n",
      "196/196 [==============================] - 302s 2s/step - loss: 0.4322 - accuracy: 0.7918 - val_loss: 0.3346 - val_accuracy: 0.8632\n",
      "Epoch 2/4\n",
      "196/196 [==============================] - 331s 2s/step - loss: 0.2396 - accuracy: 0.9088 - val_loss: 0.3056 - val_accuracy: 0.8726\n",
      "Epoch 3/4\n",
      "196/196 [==============================] - 390s 2s/step - loss: 0.1749 - accuracy: 0.9374 - val_loss: 0.3544 - val_accuracy: 0.8647\n",
      "Epoch 4/4\n",
      "196/196 [==============================] - 344s 2s/step - loss: 0.1356 - accuracy: 0.9529 - val_loss: 0.3585 - val_accuracy: 0.8638\n"
     ]
    },
    {
     "data": {
      "text/plain": [
       "<keras.callbacks.History at 0x261cae357b0>"
      ]
     },
     "execution_count": 4,
     "metadata": {},
     "output_type": "execute_result"
    }
   ],
   "source": [
    "n_unique_words = 10000\n",
    "maxlen = 200\n",
    "batch_size = 128\n",
    "\n",
    "(x_train, y_train), (x_test, y_test) = imdb.load_data(num_words=n_unique_words)\n",
    "x_train = sequence.pad_sequences(x_train, maxlen=maxlen)\n",
    "x_test = sequence.pad_sequences(x_test, maxlen=maxlen)\n",
    "y_train = np.array(y_train)\n",
    "y_test = np.array(y_test)\n",
    "\n",
    "model = Sequential()\n",
    "model.add(Embedding(n_unique_words, 128, input_length=maxlen))\n",
    "model.add(Bidirectional(LSTM(64)))\n",
    "model.add(Dropout(0.5))\n",
    "model.add(Dense(1, activation='sigmoid'))\n",
    "\n",
    "model.compile(loss='binary_crossentropy', optimizer='adam', metrics=['accuracy'])\n",
    "\n",
    "model.fit(x_train, y_train, batch_size=batch_size, epochs=4, validation_data=[x_test, y_test])"
   ]
  },
  {
   "cell_type": "code",
   "execution_count": 5,
   "metadata": {},
   "outputs": [
    {
     "name": "stdout",
     "output_type": "stream",
     "text": [
      "Model: \"sequential\"\n",
      "_________________________________________________________________\n",
      " Layer (type)                Output Shape              Param #   \n",
      "=================================================================\n",
      " embedding (Embedding)       (None, 200, 128)          1280000   \n",
      "                                                                 \n",
      " bidirectional (Bidirectiona  (None, 128)              98816     \n",
      " l)                                                              \n",
      "                                                                 \n",
      " dropout (Dropout)           (None, 128)               0         \n",
      "                                                                 \n",
      " dense (Dense)               (None, 1)                 129       \n",
      "                                                                 \n",
      "=================================================================\n",
      "Total params: 1,378,945\n",
      "Trainable params: 1,378,945\n",
      "Non-trainable params: 0\n",
      "_________________________________________________________________\n"
     ]
    }
   ],
   "source": [
    "model.summary()"
   ]
  },
  {
   "cell_type": "code",
   "execution_count": 6,
   "metadata": {},
   "outputs": [
    {
     "name": "stdout",
     "output_type": "stream",
     "text": [
      "66/66 [==============================] - 37s 569ms/step - loss: 0.0914 - accuracy: 0.9734\n",
      "Train accuracy ['loss', 'accuracy'] 0.9733999967575073\n",
      "Training loss ['loss', 'accuracy'] 0.09141815453767776\n",
      "66/66 [==============================] - 41s 627ms/step - loss: 0.3585 - accuracy: 0.8638\n",
      "Test accuracy ['loss', 'accuracy'] 0.8637599945068359\n",
      "Test loss ['loss', 'accuracy'] 0.3584725260734558\n"
     ]
    }
   ],
   "source": [
    "loss, acc = model.evaluate(x_train, y_train, batch_size=384, verbose=1)\n",
    "print('Train accuracy', model.metrics_names, acc)\n",
    "print('Training loss', model.metrics_names, loss)\n",
    "loss, acc = model.evaluate(x_test, y_test, batch_size=384, verbose = 1)\n",
    "print('Test accuracy', model.metrics_names, acc)\n",
    "print('Test loss', model.metrics_names, loss)"
   ]
  },
  {
   "cell_type": "code",
   "execution_count": null,
   "metadata": {},
   "outputs": [],
   "source": []
  }
 ],
 "metadata": {
  "kernelspec": {
   "display_name": "Python 3.10.4 ('neptune1318')",
   "language": "python",
   "name": "python3"
  },
  "language_info": {
   "codemirror_mode": {
    "name": "ipython",
    "version": 3
   },
   "file_extension": ".py",
   "mimetype": "text/x-python",
   "name": "python",
   "nbconvert_exporter": "python",
   "pygments_lexer": "ipython3",
   "version": "3.10.4"
  },
  "orig_nbformat": 4,
  "vscode": {
   "interpreter": {
    "hash": "b8ab835351b5610f8cfecb5cb29ee2a48bbb112294c750a24c3d6705cccc4f89"
   }
  }
 },
 "nbformat": 4,
 "nbformat_minor": 2
}
